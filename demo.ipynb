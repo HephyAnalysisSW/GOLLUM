{
 "cells": [
  {
   "cell_type": "markdown",
   "id": "cada113a-3eac-4cb0-8574-c945348c08f9",
   "metadata": {},
   "source": [
    "# Higgs uncertainty "
   ]
  },
  {
   "cell_type": "code",
   "execution_count": 1,
   "id": "ebbc5ec2-caa0-441c-bb3a-485517240b19",
   "metadata": {},
   "outputs": [
    {
     "name": "stderr",
     "output_type": "stream",
     "text": [
      "2025-04-08 22:07:23.901403: I tensorflow/core/platform/cpu_feature_guard.cc:193] This TensorFlow binary is optimized with oneAPI Deep Neural Network Library (oneDNN) to use the following CPU instructions in performance-critical operations:  SSE4.1 SSE4.2 AVX AVX2 AVX512F FMA\n",
      "To enable them in other operations, rebuild TensorFlow with the appropriate compiler flags.\n"
     ]
    }
   ],
   "source": [
    "import numpy as np\n",
    "import os\n",
    "import importlib\n",
    "import tensorflow as tf"
   ]
  },
  {
   "cell_type": "markdown",
   "id": "a2353383-ed12-4784-aa24-9750aac61e34",
   "metadata": {},
   "source": [
    "## Prepare the data"
   ]
  },
  {
   "cell_type": "code",
   "execution_count": 2,
   "id": "6402da91-6862-4fbc-bab5-2f305e57d73a",
   "metadata": {},
   "outputs": [],
   "source": [
    "### FIXME: this part should download the data file from Zenodo \n",
    "training_data_dir = \"/scratch-cbe/users/robert.schoefbeck/Higgs_uncertainty/data/\"\n",
    "selection = \"lowMT_VBFJet\""
   ]
  },
  {
   "cell_type": "code",
   "execution_count": 3,
   "id": "53f7306a-a04b-4007-8acd-3f6bc2d46d59",
   "metadata": {},
   "outputs": [],
   "source": [
    "import common.datasets_hephy as datasets_hephy\n",
    "from data_loader.data_loader_2 import H5DataLoader"
   ]
  },
  {
   "cell_type": "code",
   "execution_count": 4,
   "id": "5a7fde90-9077-4f6c-9ccd-549de1fe1893",
   "metadata": {
    "scrolled": true
   },
   "outputs": [],
   "source": [
    "dl = datasets_hephy.get_data_loader(data_directory=training_data_dir, process=None, selection=selection)"
   ]
  },
  {
   "cell_type": "code",
   "execution_count": 5,
   "id": "cf30fb9f-bda3-45b3-ad07-82f52fc5a4ed",
   "metadata": {},
   "outputs": [],
   "source": [
    "### FIXME: maybe we want to add some data plots here"
   ]
  },
  {
   "cell_type": "markdown",
   "id": "232df95d-851c-444b-bad7-f8b3b89122ee",
   "metadata": {},
   "source": [
    "## Train the models"
   ]
  },
  {
   "cell_type": "code",
   "execution_count": 6,
   "id": "cc7b5212-3592-489d-ad6f-b353c1783e30",
   "metadata": {},
   "outputs": [],
   "source": [
    "model_dir = \"./demodir/models\"\n",
    "processes = ['htautau','ztautau','ttbar','diboson']"
   ]
  },
  {
   "cell_type": "markdown",
   "id": "bf923079-90a3-4b3f-a09e-47e3b853a623",
   "metadata": {},
   "source": [
    "### Inclusive Crosssection"
   ]
  },
  {
   "cell_type": "code",
   "execution_count": 7,
   "id": "f96b8d77-edee-48a1-9604-6bb68fbd300f",
   "metadata": {},
   "outputs": [],
   "source": [
    "from ML.IC.IC import InclusiveCrosssection"
   ]
  },
  {
   "cell_type": "code",
   "execution_count": 8,
   "id": "6e19dcd9-348f-417c-87b9-fd8b0ee7f057",
   "metadata": {},
   "outputs": [
    {
     "name": "stdout",
     "output_type": "stream",
     "text": [
      "Training.\n"
     ]
    },
    {
     "name": "stderr",
     "output_type": "stream",
     "text": [
      "Computing weight sums:   0%|                                                                        | 0/10 [00:04<?, ?batch/s]"
     ]
    },
    {
     "name": "stdout",
     "output_type": "stream",
     "text": [
      "Written ./demodir/models/IC/IC_lowMT_VBFJet.pkl\n",
      "Trained IC for this selection: lowMT_VBFJet\n",
      "IC: \u001b[1mlowMT_VBFJet\u001b[0m                           S/B = 0.003971  yield: htautau:    22.60 ztautau:  4120.57 ttbar:  1539.10 diboson:    32.14\n",
      "                                                           count: htautau:  1158182 ztautau:   412057 ttbar:   153883 diboson:     3213\n"
     ]
    },
    {
     "name": "stderr",
     "output_type": "stream",
     "text": [
      "\n"
     ]
    }
   ],
   "source": [
    "ic_name = f\"IC_{selection}\"\n",
    "ic_model_directory = os.path.join( model_dir, \"IC\" )\n",
    "os.makedirs(ic_model_directory, exist_ok=True)\n",
    "filename = os.path.join(ic_model_directory, ic_name)+'.pkl'\n",
    "print (\"Training.\")\n",
    "ic = InclusiveCrosssection()\n",
    "\n",
    "ic.load_training_data(datasets_hephy, training_data_dir, selection)\n",
    "#ic.train             (datasets_hephy, mva_selections.selections[args.mvaSelection] if args.mvaSelection is not None else None, small=True)\n",
    "ic.train             (datasets_hephy, None, small=True)\n",
    "\n",
    "ic.save(filename)\n",
    "print (\"Written %s\"%( filename ))\n",
    "\n",
    "print(f\"Trained IC for this selection: {selection}\")\n",
    "print(ic)"
   ]
  },
  {
   "cell_type": "markdown",
   "id": "fffd2b34-f0ee-423c-a873-0799c681b9f3",
   "metadata": {},
   "source": [
    "## Scalar"
   ]
  },
  {
   "cell_type": "code",
   "execution_count": 12,
   "id": "dc1160fa-5677-418e-b7b2-3d0e0cba30d7",
   "metadata": {},
   "outputs": [
    {
     "name": "stdout",
     "output_type": "stream",
     "text": [
      "Training.\n"
     ]
    },
    {
     "name": "stderr",
     "output_type": "stream",
     "text": [
      "Computing feature mean/variance:   0%|                                                              | 0/10 [00:05<?, ?batch/s]\n"
     ]
    },
    {
     "name": "stdout",
     "output_type": "stream",
     "text": [
      "Written ./demodir/models/Scaler/Scaler_lowMT_VBFJet.pkl\n",
      "Training.\n"
     ]
    },
    {
     "name": "stderr",
     "output_type": "stream",
     "text": [
      "Computing feature mean/variance:   0%|                                                              | 0/10 [00:05<?, ?batch/s]\n"
     ]
    },
    {
     "name": "stdout",
     "output_type": "stream",
     "text": [
      "Written ./demodir/models/Scaler/Scaler_htautau_lowMT_VBFJet.pkl\n",
      "Training.\n"
     ]
    },
    {
     "name": "stderr",
     "output_type": "stream",
     "text": [
      "Computing feature mean/variance:   0%|                                                              | 0/10 [00:02<?, ?batch/s]\n"
     ]
    },
    {
     "name": "stdout",
     "output_type": "stream",
     "text": [
      "Written ./demodir/models/Scaler/Scaler_ztautau_lowMT_VBFJet.pkl\n",
      "Training.\n"
     ]
    },
    {
     "name": "stderr",
     "output_type": "stream",
     "text": [
      "Computing feature mean/variance:   0%|                                                              | 0/10 [00:00<?, ?batch/s]\n"
     ]
    },
    {
     "name": "stdout",
     "output_type": "stream",
     "text": [
      "Written ./demodir/models/Scaler/Scaler_ttbar_lowMT_VBFJet.pkl\n",
      "Training.\n"
     ]
    },
    {
     "name": "stderr",
     "output_type": "stream",
     "text": [
      "Computing feature mean/variance:   0%|                                                              | 0/10 [00:00<?, ?batch/s]"
     ]
    },
    {
     "name": "stdout",
     "output_type": "stream",
     "text": [
      "Written ./demodir/models/Scaler/Scaler_diboson_lowMT_VBFJet.pkl\n"
     ]
    },
    {
     "name": "stderr",
     "output_type": "stream",
     "text": [
      "\n"
     ]
    }
   ],
   "source": [
    "from ML.Scaler.Scaler import Scaler\n",
    "scalar_model_directory = os.path.join(model_dir, \"Scaler\")\n",
    "os.makedirs(scalar_model_directory, exist_ok=True)\n",
    "process_to_train = [None]+processes\n",
    "for p in process_to_train:\n",
    "    subdirs = [arg for arg in [p, selection] if arg is not None]\n",
    "    scaler_name = \"Scaler_\"+\"_\".join(subdirs)\n",
    "    filename = os.path.join(scalar_model_directory, scaler_name) + '.pkl'\n",
    "    print(\"Training.\")\n",
    "    scaler = Scaler()\n",
    "\n",
    "    scaler.load_training_data(training_data_dir=training_data_dir, datasets_hephy=datasets_hephy, selection=selection, process=p)\n",
    "    scaler.train(small=True)\n",
    "\n",
    "    scaler.save(filename)\n",
    "    print(f\"Written {filename}\")\n",
    "    "
   ]
  },
  {
   "cell_type": "markdown",
   "id": "a0c63a0b-fd18-4de9-90e1-4296f80e0c66",
   "metadata": {},
   "source": [
    "## Inclusive Crosssection Parametrization"
   ]
  },
  {
   "cell_type": "code",
   "execution_count": 10,
   "id": "e824375c-b313-4ff2-897f-2cc7546bc96a",
   "metadata": {},
   "outputs": [],
   "source": [
    "from ML.ICP.ICP import InclusiveCrosssectionParametrization"
   ]
  },
  {
   "cell_type": "code",
   "execution_count": 11,
   "id": "8affa901-a184-4cc9-a3d2-10eeec2431ad",
   "metadata": {
    "scrolled": true
   },
   "outputs": [
    {
     "name": "stdout",
     "output_type": "stream",
     "text": [
      "Training.\n",
      "ICP training data: Base point nu = (0.0, 0.0, 0.0), alpha = (1.0, 1.0, 0.0), file = /scratch-cbe/users/robert.schoefbeck/Higgs_uncertainty/data/lowMT_VBFJet/htautau.h5\n",
      "ICP training data: Base point nu = (-3.0, 0.0, 0.0), alpha = (0.97, 1.0, 0.0), file = /scratch-cbe/users/robert.schoefbeck/Higgs_uncertainty/data/lowMT_VBFJet/htautau_tes_0p97.h5\n",
      "ICP training data: Base point nu = (-2.0, 0.0, 0.0), alpha = (0.98, 1.0, 0.0), file = /scratch-cbe/users/robert.schoefbeck/Higgs_uncertainty/data/lowMT_VBFJet/htautau_tes_0p98.h5\n",
      "ICP training data: Base point nu = (-1.0, -1.0, 0.0), alpha = (0.99, 0.99, 0.0), file = /scratch-cbe/users/robert.schoefbeck/Higgs_uncertainty/data/lowMT_VBFJet/htautau_tes_0p99_jes_0p99.h5\n",
      "ICP training data: Base point nu = (-1.0, -1.0, 1.0), alpha = (0.99, 0.99, 1.0), file = /scratch-cbe/users/robert.schoefbeck/Higgs_uncertainty/data/lowMT_VBFJet/htautau_tes_0p99_jes_0p99_met_1.h5\n",
      "ICP training data: Base point nu = (-1.0, -1.0, 2.0), alpha = (0.99, 0.99, 2.0), file = /scratch-cbe/users/robert.schoefbeck/Higgs_uncertainty/data/lowMT_VBFJet/htautau_tes_0p99_jes_0p99_met_2.h5\n",
      "ICP training data: Base point nu = (-1.0, 0.0, 0.0), alpha = (0.99, 1.0, 0.0), file = /scratch-cbe/users/robert.schoefbeck/Higgs_uncertainty/data/lowMT_VBFJet/htautau_tes_0p99.h5\n",
      "ICP training data: Base point nu = (-1.0, 0.0, 1.0), alpha = (0.99, 1.0, 1.0), file = /scratch-cbe/users/robert.schoefbeck/Higgs_uncertainty/data/lowMT_VBFJet/htautau_tes_0p99_met_1.h5\n",
      "ICP training data: Base point nu = (-1.0, 0.0, 2.0), alpha = (0.99, 1.0, 2.0), file = /scratch-cbe/users/robert.schoefbeck/Higgs_uncertainty/data/lowMT_VBFJet/htautau_tes_0p99_met_2.h5\n",
      "ICP training data: Base point nu = (-1.0, 1.0, 0.0), alpha = (0.99, 1.01, 0.0), file = /scratch-cbe/users/robert.schoefbeck/Higgs_uncertainty/data/lowMT_VBFJet/htautau_tes_0p99_jes_1p01.h5\n",
      "ICP training data: Base point nu = (-1.0, 1.0, 1.0), alpha = (0.99, 1.01, 1.0), file = /scratch-cbe/users/robert.schoefbeck/Higgs_uncertainty/data/lowMT_VBFJet/htautau_tes_0p99_jes_1p01_met_1.h5\n",
      "ICP training data: Base point nu = (-1.0, 1.0, 2.0), alpha = (0.99, 1.01, 2.0), file = /scratch-cbe/users/robert.schoefbeck/Higgs_uncertainty/data/lowMT_VBFJet/htautau_tes_0p99_jes_1p01_met_2.h5\n",
      "ICP training data: Base point nu = (0.0, -3.0, 0.0), alpha = (1.0, 0.97, 0.0), file = /scratch-cbe/users/robert.schoefbeck/Higgs_uncertainty/data/lowMT_VBFJet/htautau_jes_0p97.h5\n",
      "ICP training data: Base point nu = (0.0, -2.0, 0.0), alpha = (1.0, 0.98, 0.0), file = /scratch-cbe/users/robert.schoefbeck/Higgs_uncertainty/data/lowMT_VBFJet/htautau_jes_0p98.h5\n",
      "ICP training data: Base point nu = (0.0, -1.0, 0.0), alpha = (1.0, 0.99, 0.0), file = /scratch-cbe/users/robert.schoefbeck/Higgs_uncertainty/data/lowMT_VBFJet/htautau_jes_0p99.h5\n",
      "ICP training data: Base point nu = (0.0, -1.0, 1.0), alpha = (1.0, 0.99, 1.0), file = /scratch-cbe/users/robert.schoefbeck/Higgs_uncertainty/data/lowMT_VBFJet/htautau_jes_0p99_met_1.h5\n",
      "ICP training data: Base point nu = (0.0, -1.0, 2.0), alpha = (1.0, 0.99, 2.0), file = /scratch-cbe/users/robert.schoefbeck/Higgs_uncertainty/data/lowMT_VBFJet/htautau_jes_0p99_met_2.h5\n",
      "ICP training data: Base point nu = (0.0, 0.0, 1.0), alpha = (1.0, 1.0, 1.0), file = /scratch-cbe/users/robert.schoefbeck/Higgs_uncertainty/data/lowMT_VBFJet/htautau_met_1.h5\n",
      "ICP training data: Base point nu = (0.0, 0.0, 2.0), alpha = (1.0, 1.0, 2.0), file = /scratch-cbe/users/robert.schoefbeck/Higgs_uncertainty/data/lowMT_VBFJet/htautau_met_2.h5\n",
      "ICP training data: Base point nu = (0.0, 1.0, 0.0), alpha = (1.0, 1.01, 0.0), file = /scratch-cbe/users/robert.schoefbeck/Higgs_uncertainty/data/lowMT_VBFJet/htautau_jes_1p01.h5\n",
      "ICP training data: Base point nu = (0.0, 1.0, 1.0), alpha = (1.0, 1.01, 1.0), file = /scratch-cbe/users/robert.schoefbeck/Higgs_uncertainty/data/lowMT_VBFJet/htautau_jes_1p01_met_1.h5\n",
      "ICP training data: Base point nu = (0.0, 1.0, 2.0), alpha = (1.0, 1.01, 2.0), file = /scratch-cbe/users/robert.schoefbeck/Higgs_uncertainty/data/lowMT_VBFJet/htautau_jes_1p01_met_2.h5\n",
      "ICP training data: Base point nu = (0.0, 2.0, 0.0), alpha = (1.0, 1.02, 0.0), file = /scratch-cbe/users/robert.schoefbeck/Higgs_uncertainty/data/lowMT_VBFJet/htautau_jes_1p02.h5\n",
      "ICP training data: Base point nu = (0.0, 3.0, 0.0), alpha = (1.0, 1.03, 0.0), file = /scratch-cbe/users/robert.schoefbeck/Higgs_uncertainty/data/lowMT_VBFJet/htautau_jes_1p03.h5\n",
      "ICP training data: Base point nu = (1.0, -1.0, 0.0), alpha = (1.01, 0.99, 0.0), file = /scratch-cbe/users/robert.schoefbeck/Higgs_uncertainty/data/lowMT_VBFJet/htautau_tes_1p01_jes_0p99.h5\n",
      "ICP training data: Base point nu = (1.0, -1.0, 1.0), alpha = (1.01, 0.99, 1.0), file = /scratch-cbe/users/robert.schoefbeck/Higgs_uncertainty/data/lowMT_VBFJet/htautau_tes_1p01_jes_0p99_met_1.h5\n",
      "ICP training data: Base point nu = (1.0, -1.0, 2.0), alpha = (1.01, 0.99, 2.0), file = /scratch-cbe/users/robert.schoefbeck/Higgs_uncertainty/data/lowMT_VBFJet/htautau_tes_1p01_jes_0p99_met_2.h5\n",
      "ICP training data: Base point nu = (1.0, 0.0, 0.0), alpha = (1.01, 1.0, 0.0), file = /scratch-cbe/users/robert.schoefbeck/Higgs_uncertainty/data/lowMT_VBFJet/htautau_tes_1p01.h5\n",
      "ICP training data: Base point nu = (1.0, 0.0, 1.0), alpha = (1.01, 1.0, 1.0), file = /scratch-cbe/users/robert.schoefbeck/Higgs_uncertainty/data/lowMT_VBFJet/htautau_tes_1p01_met_1.h5\n",
      "ICP training data: Base point nu = (1.0, 0.0, 2.0), alpha = (1.01, 1.0, 2.0), file = /scratch-cbe/users/robert.schoefbeck/Higgs_uncertainty/data/lowMT_VBFJet/htautau_tes_1p01_met_2.h5\n",
      "ICP training data: Base point nu = (1.0, 1.0, 0.0), alpha = (1.01, 1.01, 0.0), file = /scratch-cbe/users/robert.schoefbeck/Higgs_uncertainty/data/lowMT_VBFJet/htautau_tes_1p01_jes_1p01.h5\n",
      "ICP training data: Base point nu = (1.0, 1.0, 1.0), alpha = (1.01, 1.01, 1.0), file = /scratch-cbe/users/robert.schoefbeck/Higgs_uncertainty/data/lowMT_VBFJet/htautau_tes_1p01_jes_1p01_met_1.h5\n",
      "ICP training data: Base point nu = (1.0, 1.0, 2.0), alpha = (1.01, 1.01, 2.0), file = /scratch-cbe/users/robert.schoefbeck/Higgs_uncertainty/data/lowMT_VBFJet/htautau_tes_1p01_jes_1p01_met_2.h5\n",
      "ICP training data: Base point nu = (2.0, 0.0, 0.0), alpha = (1.02, 1.0, 0.0), file = /scratch-cbe/users/robert.schoefbeck/Higgs_uncertainty/data/lowMT_VBFJet/htautau_tes_1p02.h5\n",
      "ICP training data: Base point nu = (3.0, 0.0, 0.0), alpha = (1.03, 1.0, 0.0), file = /scratch-cbe/users/robert.schoefbeck/Higgs_uncertainty/data/lowMT_VBFJet/htautau_tes_1p03.h5\n"
     ]
    },
    {
     "name": "stderr",
     "output_type": "stream",
     "text": [
      "Computing weight sum:   0%|                                                                         | 0/10 [00:05<?, ?batch/s]\n",
      "Computing weight sum:   0%|                                                                         | 0/10 [00:04<?, ?batch/s]\n",
      "Computing weight sum:   0%|                                                                         | 0/10 [00:05<?, ?batch/s]\n",
      "Computing weight sum:   0%|                                                                         | 0/10 [00:04<?, ?batch/s]\n",
      "Computing weight sum:   0%|                                                                         | 0/10 [00:04<?, ?batch/s]\n",
      "Computing weight sum:   0%|                                                                         | 0/10 [00:04<?, ?batch/s]\n",
      "Computing weight sum:   0%|                                                                         | 0/10 [00:05<?, ?batch/s]\n",
      "Computing weight sum:   0%|                                                                         | 0/10 [00:05<?, ?batch/s]\n",
      "Computing weight sum:   0%|                                                                         | 0/10 [00:05<?, ?batch/s]\n",
      "Computing weight sum:   0%|                                                                         | 0/10 [00:05<?, ?batch/s]\n",
      "Computing weight sum:   0%|                                                                         | 0/10 [00:05<?, ?batch/s]\n",
      "Computing weight sum:   0%|                                                                         | 0/10 [00:05<?, ?batch/s]\n",
      "Computing weight sum:   0%|                                                                         | 0/10 [00:04<?, ?batch/s]\n",
      "Computing weight sum:   0%|                                                                         | 0/10 [00:05<?, ?batch/s]\n",
      "Computing weight sum:   0%|                                                                         | 0/10 [00:05<?, ?batch/s]\n",
      "Computing weight sum:   0%|                                                                         | 0/10 [00:05<?, ?batch/s]\n",
      "Computing weight sum:   0%|                                                                         | 0/10 [00:05<?, ?batch/s]\n",
      "Computing weight sum:   0%|                                                                         | 0/10 [00:05<?, ?batch/s]\n",
      "Computing weight sum:   0%|                                                                         | 0/10 [00:05<?, ?batch/s]\n",
      "Computing weight sum:   0%|                                                                         | 0/10 [00:04<?, ?batch/s]\n",
      "Computing weight sum:   0%|                                                                         | 0/10 [00:04<?, ?batch/s]\n",
      "Computing weight sum:   0%|                                                                         | 0/10 [00:04<?, ?batch/s]\n",
      "Computing weight sum:   0%|                                                                         | 0/10 [00:05<?, ?batch/s]\n",
      "Computing weight sum:   0%|                                                                         | 0/10 [00:05<?, ?batch/s]\n",
      "Computing weight sum:   0%|                                                                         | 0/10 [00:05<?, ?batch/s]\n",
      "Computing weight sum:   0%|                                                                         | 0/10 [00:04<?, ?batch/s]\n",
      "Computing weight sum:   0%|                                                                         | 0/10 [00:05<?, ?batch/s]\n",
      "Computing weight sum:   0%|                                                                         | 0/10 [00:04<?, ?batch/s]\n",
      "Computing weight sum:   0%|                                                                         | 0/10 [00:05<?, ?batch/s]\n",
      "Computing weight sum:   0%|                                                                         | 0/10 [00:04<?, ?batch/s]\n",
      "Computing weight sum:   0%|                                                                         | 0/10 [00:05<?, ?batch/s]\n",
      "Computing weight sum:   0%|                                                                         | 0/10 [00:05<?, ?batch/s]\n",
      "Computing weight sum:   0%|                                                                         | 0/10 [00:05<?, ?batch/s]\n",
      "Computing weight sum:   0%|                                                                         | 0/10 [00:05<?, ?batch/s]\n",
      "Computing weight sum:   0%|                                                                         | 0/10 [00:05<?, ?batch/s]\n"
     ]
    },
    {
     "name": "stdout",
     "output_type": "stream",
     "text": [
      "Written ./demodir/models/ICP/ICP_htautau_lowMT_VBFJet_icp_quad_tes_jes_met.pkl\n",
      "Trained ICP with config ML.configs.icp_quad_tes_jes_met in selection lowMT_VBFJet\n",
      "ICP: lowMT_VBFJet                                 +6.0e-03*nu_tes +1.3e-02*nu_jes -3.4e-05*nu_met -9.9e-05*nu_tes*nu_tes -1.6e-04*nu_jes*nu_jes -9.2e-05*nu_met*nu_met +4.6e-05*nu_tes*nu_jes -4.5e-06*nu_tes*nu_met +5.2e-06*nu_jes*nu_met\n",
      "Training.\n",
      "ICP training data: Base point nu = (0.0, 0.0, 0.0), alpha = (1.0, 1.0, 0.0), file = /scratch-cbe/users/robert.schoefbeck/Higgs_uncertainty/data/lowMT_VBFJet/ztautau.h5\n",
      "ICP training data: Base point nu = (-3.0, 0.0, 0.0), alpha = (0.97, 1.0, 0.0), file = /scratch-cbe/users/robert.schoefbeck/Higgs_uncertainty/data/lowMT_VBFJet/ztautau_tes_0p97.h5\n",
      "ICP training data: Base point nu = (-2.0, 0.0, 0.0), alpha = (0.98, 1.0, 0.0), file = /scratch-cbe/users/robert.schoefbeck/Higgs_uncertainty/data/lowMT_VBFJet/ztautau_tes_0p98.h5\n",
      "ICP training data: Base point nu = (-1.0, -1.0, 0.0), alpha = (0.99, 0.99, 0.0), file = /scratch-cbe/users/robert.schoefbeck/Higgs_uncertainty/data/lowMT_VBFJet/ztautau_tes_0p99_jes_0p99.h5\n",
      "ICP training data: Base point nu = (-1.0, -1.0, 1.0), alpha = (0.99, 0.99, 1.0), file = /scratch-cbe/users/robert.schoefbeck/Higgs_uncertainty/data/lowMT_VBFJet/ztautau_tes_0p99_jes_0p99_met_1.h5\n",
      "ICP training data: Base point nu = (-1.0, -1.0, 2.0), alpha = (0.99, 0.99, 2.0), file = /scratch-cbe/users/robert.schoefbeck/Higgs_uncertainty/data/lowMT_VBFJet/ztautau_tes_0p99_jes_0p99_met_2.h5\n",
      "ICP training data: Base point nu = (-1.0, 0.0, 0.0), alpha = (0.99, 1.0, 0.0), file = /scratch-cbe/users/robert.schoefbeck/Higgs_uncertainty/data/lowMT_VBFJet/ztautau_tes_0p99.h5\n",
      "ICP training data: Base point nu = (-1.0, 0.0, 1.0), alpha = (0.99, 1.0, 1.0), file = /scratch-cbe/users/robert.schoefbeck/Higgs_uncertainty/data/lowMT_VBFJet/ztautau_tes_0p99_met_1.h5\n",
      "ICP training data: Base point nu = (-1.0, 0.0, 2.0), alpha = (0.99, 1.0, 2.0), file = /scratch-cbe/users/robert.schoefbeck/Higgs_uncertainty/data/lowMT_VBFJet/ztautau_tes_0p99_met_2.h5\n",
      "ICP training data: Base point nu = (-1.0, 1.0, 0.0), alpha = (0.99, 1.01, 0.0), file = /scratch-cbe/users/robert.schoefbeck/Higgs_uncertainty/data/lowMT_VBFJet/ztautau_tes_0p99_jes_1p01.h5\n",
      "ICP training data: Base point nu = (-1.0, 1.0, 1.0), alpha = (0.99, 1.01, 1.0), file = /scratch-cbe/users/robert.schoefbeck/Higgs_uncertainty/data/lowMT_VBFJet/ztautau_tes_0p99_jes_1p01_met_1.h5\n",
      "ICP training data: Base point nu = (-1.0, 1.0, 2.0), alpha = (0.99, 1.01, 2.0), file = /scratch-cbe/users/robert.schoefbeck/Higgs_uncertainty/data/lowMT_VBFJet/ztautau_tes_0p99_jes_1p01_met_2.h5\n",
      "ICP training data: Base point nu = (0.0, -3.0, 0.0), alpha = (1.0, 0.97, 0.0), file = /scratch-cbe/users/robert.schoefbeck/Higgs_uncertainty/data/lowMT_VBFJet/ztautau_jes_0p97.h5\n",
      "ICP training data: Base point nu = (0.0, -2.0, 0.0), alpha = (1.0, 0.98, 0.0), file = /scratch-cbe/users/robert.schoefbeck/Higgs_uncertainty/data/lowMT_VBFJet/ztautau_jes_0p98.h5\n",
      "ICP training data: Base point nu = (0.0, -1.0, 0.0), alpha = (1.0, 0.99, 0.0), file = /scratch-cbe/users/robert.schoefbeck/Higgs_uncertainty/data/lowMT_VBFJet/ztautau_jes_0p99.h5\n",
      "ICP training data: Base point nu = (0.0, -1.0, 1.0), alpha = (1.0, 0.99, 1.0), file = /scratch-cbe/users/robert.schoefbeck/Higgs_uncertainty/data/lowMT_VBFJet/ztautau_jes_0p99_met_1.h5\n",
      "ICP training data: Base point nu = (0.0, -1.0, 2.0), alpha = (1.0, 0.99, 2.0), file = /scratch-cbe/users/robert.schoefbeck/Higgs_uncertainty/data/lowMT_VBFJet/ztautau_jes_0p99_met_2.h5\n",
      "ICP training data: Base point nu = (0.0, 0.0, 1.0), alpha = (1.0, 1.0, 1.0), file = /scratch-cbe/users/robert.schoefbeck/Higgs_uncertainty/data/lowMT_VBFJet/ztautau_met_1.h5\n",
      "ICP training data: Base point nu = (0.0, 0.0, 2.0), alpha = (1.0, 1.0, 2.0), file = /scratch-cbe/users/robert.schoefbeck/Higgs_uncertainty/data/lowMT_VBFJet/ztautau_met_2.h5\n",
      "ICP training data: Base point nu = (0.0, 1.0, 0.0), alpha = (1.0, 1.01, 0.0), file = /scratch-cbe/users/robert.schoefbeck/Higgs_uncertainty/data/lowMT_VBFJet/ztautau_jes_1p01.h5\n",
      "ICP training data: Base point nu = (0.0, 1.0, 1.0), alpha = (1.0, 1.01, 1.0), file = /scratch-cbe/users/robert.schoefbeck/Higgs_uncertainty/data/lowMT_VBFJet/ztautau_jes_1p01_met_1.h5\n",
      "ICP training data: Base point nu = (0.0, 1.0, 2.0), alpha = (1.0, 1.01, 2.0), file = /scratch-cbe/users/robert.schoefbeck/Higgs_uncertainty/data/lowMT_VBFJet/ztautau_jes_1p01_met_2.h5\n",
      "ICP training data: Base point nu = (0.0, 2.0, 0.0), alpha = (1.0, 1.02, 0.0), file = /scratch-cbe/users/robert.schoefbeck/Higgs_uncertainty/data/lowMT_VBFJet/ztautau_jes_1p02.h5\n",
      "ICP training data: Base point nu = (0.0, 3.0, 0.0), alpha = (1.0, 1.03, 0.0), file = /scratch-cbe/users/robert.schoefbeck/Higgs_uncertainty/data/lowMT_VBFJet/ztautau_jes_1p03.h5\n",
      "ICP training data: Base point nu = (1.0, -1.0, 0.0), alpha = (1.01, 0.99, 0.0), file = /scratch-cbe/users/robert.schoefbeck/Higgs_uncertainty/data/lowMT_VBFJet/ztautau_tes_1p01_jes_0p99.h5\n",
      "ICP training data: Base point nu = (1.0, -1.0, 1.0), alpha = (1.01, 0.99, 1.0), file = /scratch-cbe/users/robert.schoefbeck/Higgs_uncertainty/data/lowMT_VBFJet/ztautau_tes_1p01_jes_0p99_met_1.h5\n",
      "ICP training data: Base point nu = (1.0, -1.0, 2.0), alpha = (1.01, 0.99, 2.0), file = /scratch-cbe/users/robert.schoefbeck/Higgs_uncertainty/data/lowMT_VBFJet/ztautau_tes_1p01_jes_0p99_met_2.h5\n",
      "ICP training data: Base point nu = (1.0, 0.0, 0.0), alpha = (1.01, 1.0, 0.0), file = /scratch-cbe/users/robert.schoefbeck/Higgs_uncertainty/data/lowMT_VBFJet/ztautau_tes_1p01.h5\n",
      "ICP training data: Base point nu = (1.0, 0.0, 1.0), alpha = (1.01, 1.0, 1.0), file = /scratch-cbe/users/robert.schoefbeck/Higgs_uncertainty/data/lowMT_VBFJet/ztautau_tes_1p01_met_1.h5\n",
      "ICP training data: Base point nu = (1.0, 0.0, 2.0), alpha = (1.01, 1.0, 2.0), file = /scratch-cbe/users/robert.schoefbeck/Higgs_uncertainty/data/lowMT_VBFJet/ztautau_tes_1p01_met_2.h5\n",
      "ICP training data: Base point nu = (1.0, 1.0, 0.0), alpha = (1.01, 1.01, 0.0), file = /scratch-cbe/users/robert.schoefbeck/Higgs_uncertainty/data/lowMT_VBFJet/ztautau_tes_1p01_jes_1p01.h5\n",
      "ICP training data: Base point nu = (1.0, 1.0, 1.0), alpha = (1.01, 1.01, 1.0), file = /scratch-cbe/users/robert.schoefbeck/Higgs_uncertainty/data/lowMT_VBFJet/ztautau_tes_1p01_jes_1p01_met_1.h5\n",
      "ICP training data: Base point nu = (1.0, 1.0, 2.0), alpha = (1.01, 1.01, 2.0), file = /scratch-cbe/users/robert.schoefbeck/Higgs_uncertainty/data/lowMT_VBFJet/ztautau_tes_1p01_jes_1p01_met_2.h5\n",
      "ICP training data: Base point nu = (2.0, 0.0, 0.0), alpha = (1.02, 1.0, 0.0), file = /scratch-cbe/users/robert.schoefbeck/Higgs_uncertainty/data/lowMT_VBFJet/ztautau_tes_1p02.h5\n",
      "ICP training data: Base point nu = (3.0, 0.0, 0.0), alpha = (1.03, 1.0, 0.0), file = /scratch-cbe/users/robert.schoefbeck/Higgs_uncertainty/data/lowMT_VBFJet/ztautau_tes_1p03.h5\n",
      "Written ./demodir/models/ICP/ICP_ztautau_lowMT_VBFJet_icp_quad_tes_jes_met.pkl\n",
      "Trained ICP with config ML.configs.icp_quad_tes_jes_met in selection lowMT_VBFJet\n",
      "ICP: lowMT_VBFJet                                 +6.0e-03*nu_tes +1.3e-02*nu_jes -3.4e-05*nu_met -9.9e-05*nu_tes*nu_tes -1.6e-04*nu_jes*nu_jes -9.2e-05*nu_met*nu_met +4.6e-05*nu_tes*nu_jes -4.5e-06*nu_tes*nu_met +5.2e-06*nu_jes*nu_met\n",
      "Training.\n",
      "ICP training data: Base point nu = (0.0, 0.0, 0.0), alpha = (1.0, 1.0, 0.0), file = /scratch-cbe/users/robert.schoefbeck/Higgs_uncertainty/data/lowMT_VBFJet/ttbar.h5\n",
      "ICP training data: Base point nu = (-3.0, 0.0, 0.0), alpha = (0.97, 1.0, 0.0), file = /scratch-cbe/users/robert.schoefbeck/Higgs_uncertainty/data/lowMT_VBFJet/ttbar_tes_0p97.h5\n",
      "ICP training data: Base point nu = (-2.0, 0.0, 0.0), alpha = (0.98, 1.0, 0.0), file = /scratch-cbe/users/robert.schoefbeck/Higgs_uncertainty/data/lowMT_VBFJet/ttbar_tes_0p98.h5\n",
      "ICP training data: Base point nu = (-1.0, -1.0, 0.0), alpha = (0.99, 0.99, 0.0), file = /scratch-cbe/users/robert.schoefbeck/Higgs_uncertainty/data/lowMT_VBFJet/ttbar_tes_0p99_jes_0p99.h5\n",
      "ICP training data: Base point nu = (-1.0, -1.0, 1.0), alpha = (0.99, 0.99, 1.0), file = /scratch-cbe/users/robert.schoefbeck/Higgs_uncertainty/data/lowMT_VBFJet/ttbar_tes_0p99_jes_0p99_met_1.h5\n",
      "ICP training data: Base point nu = (-1.0, -1.0, 2.0), alpha = (0.99, 0.99, 2.0), file = /scratch-cbe/users/robert.schoefbeck/Higgs_uncertainty/data/lowMT_VBFJet/ttbar_tes_0p99_jes_0p99_met_2.h5\n",
      "ICP training data: Base point nu = (-1.0, 0.0, 0.0), alpha = (0.99, 1.0, 0.0), file = /scratch-cbe/users/robert.schoefbeck/Higgs_uncertainty/data/lowMT_VBFJet/ttbar_tes_0p99.h5\n",
      "ICP training data: Base point nu = (-1.0, 0.0, 1.0), alpha = (0.99, 1.0, 1.0), file = /scratch-cbe/users/robert.schoefbeck/Higgs_uncertainty/data/lowMT_VBFJet/ttbar_tes_0p99_met_1.h5\n",
      "ICP training data: Base point nu = (-1.0, 0.0, 2.0), alpha = (0.99, 1.0, 2.0), file = /scratch-cbe/users/robert.schoefbeck/Higgs_uncertainty/data/lowMT_VBFJet/ttbar_tes_0p99_met_2.h5\n",
      "ICP training data: Base point nu = (-1.0, 1.0, 0.0), alpha = (0.99, 1.01, 0.0), file = /scratch-cbe/users/robert.schoefbeck/Higgs_uncertainty/data/lowMT_VBFJet/ttbar_tes_0p99_jes_1p01.h5\n",
      "ICP training data: Base point nu = (-1.0, 1.0, 1.0), alpha = (0.99, 1.01, 1.0), file = /scratch-cbe/users/robert.schoefbeck/Higgs_uncertainty/data/lowMT_VBFJet/ttbar_tes_0p99_jes_1p01_met_1.h5\n",
      "ICP training data: Base point nu = (-1.0, 1.0, 2.0), alpha = (0.99, 1.01, 2.0), file = /scratch-cbe/users/robert.schoefbeck/Higgs_uncertainty/data/lowMT_VBFJet/ttbar_tes_0p99_jes_1p01_met_2.h5\n",
      "ICP training data: Base point nu = (0.0, -3.0, 0.0), alpha = (1.0, 0.97, 0.0), file = /scratch-cbe/users/robert.schoefbeck/Higgs_uncertainty/data/lowMT_VBFJet/ttbar_jes_0p97.h5\n",
      "ICP training data: Base point nu = (0.0, -2.0, 0.0), alpha = (1.0, 0.98, 0.0), file = /scratch-cbe/users/robert.schoefbeck/Higgs_uncertainty/data/lowMT_VBFJet/ttbar_jes_0p98.h5\n",
      "ICP training data: Base point nu = (0.0, -1.0, 0.0), alpha = (1.0, 0.99, 0.0), file = /scratch-cbe/users/robert.schoefbeck/Higgs_uncertainty/data/lowMT_VBFJet/ttbar_jes_0p99.h5\n",
      "ICP training data: Base point nu = (0.0, -1.0, 1.0), alpha = (1.0, 0.99, 1.0), file = /scratch-cbe/users/robert.schoefbeck/Higgs_uncertainty/data/lowMT_VBFJet/ttbar_jes_0p99_met_1.h5\n",
      "ICP training data: Base point nu = (0.0, -1.0, 2.0), alpha = (1.0, 0.99, 2.0), file = /scratch-cbe/users/robert.schoefbeck/Higgs_uncertainty/data/lowMT_VBFJet/ttbar_jes_0p99_met_2.h5\n",
      "ICP training data: Base point nu = (0.0, 0.0, 1.0), alpha = (1.0, 1.0, 1.0), file = /scratch-cbe/users/robert.schoefbeck/Higgs_uncertainty/data/lowMT_VBFJet/ttbar_met_1.h5\n",
      "ICP training data: Base point nu = (0.0, 0.0, 2.0), alpha = (1.0, 1.0, 2.0), file = /scratch-cbe/users/robert.schoefbeck/Higgs_uncertainty/data/lowMT_VBFJet/ttbar_met_2.h5\n",
      "ICP training data: Base point nu = (0.0, 1.0, 0.0), alpha = (1.0, 1.01, 0.0), file = /scratch-cbe/users/robert.schoefbeck/Higgs_uncertainty/data/lowMT_VBFJet/ttbar_jes_1p01.h5\n",
      "ICP training data: Base point nu = (0.0, 1.0, 1.0), alpha = (1.0, 1.01, 1.0), file = /scratch-cbe/users/robert.schoefbeck/Higgs_uncertainty/data/lowMT_VBFJet/ttbar_jes_1p01_met_1.h5\n",
      "ICP training data: Base point nu = (0.0, 1.0, 2.0), alpha = (1.0, 1.01, 2.0), file = /scratch-cbe/users/robert.schoefbeck/Higgs_uncertainty/data/lowMT_VBFJet/ttbar_jes_1p01_met_2.h5\n",
      "ICP training data: Base point nu = (0.0, 2.0, 0.0), alpha = (1.0, 1.02, 0.0), file = /scratch-cbe/users/robert.schoefbeck/Higgs_uncertainty/data/lowMT_VBFJet/ttbar_jes_1p02.h5\n",
      "ICP training data: Base point nu = (0.0, 3.0, 0.0), alpha = (1.0, 1.03, 0.0), file = /scratch-cbe/users/robert.schoefbeck/Higgs_uncertainty/data/lowMT_VBFJet/ttbar_jes_1p03.h5\n",
      "ICP training data: Base point nu = (1.0, -1.0, 0.0), alpha = (1.01, 0.99, 0.0), file = /scratch-cbe/users/robert.schoefbeck/Higgs_uncertainty/data/lowMT_VBFJet/ttbar_tes_1p01_jes_0p99.h5\n",
      "ICP training data: Base point nu = (1.0, -1.0, 1.0), alpha = (1.01, 0.99, 1.0), file = /scratch-cbe/users/robert.schoefbeck/Higgs_uncertainty/data/lowMT_VBFJet/ttbar_tes_1p01_jes_0p99_met_1.h5\n",
      "ICP training data: Base point nu = (1.0, -1.0, 2.0), alpha = (1.01, 0.99, 2.0), file = /scratch-cbe/users/robert.schoefbeck/Higgs_uncertainty/data/lowMT_VBFJet/ttbar_tes_1p01_jes_0p99_met_2.h5\n",
      "ICP training data: Base point nu = (1.0, 0.0, 0.0), alpha = (1.01, 1.0, 0.0), file = /scratch-cbe/users/robert.schoefbeck/Higgs_uncertainty/data/lowMT_VBFJet/ttbar_tes_1p01.h5\n",
      "ICP training data: Base point nu = (1.0, 0.0, 1.0), alpha = (1.01, 1.0, 1.0), file = /scratch-cbe/users/robert.schoefbeck/Higgs_uncertainty/data/lowMT_VBFJet/ttbar_tes_1p01_met_1.h5\n",
      "ICP training data: Base point nu = (1.0, 0.0, 2.0), alpha = (1.01, 1.0, 2.0), file = /scratch-cbe/users/robert.schoefbeck/Higgs_uncertainty/data/lowMT_VBFJet/ttbar_tes_1p01_met_2.h5\n",
      "ICP training data: Base point nu = (1.0, 1.0, 0.0), alpha = (1.01, 1.01, 0.0), file = /scratch-cbe/users/robert.schoefbeck/Higgs_uncertainty/data/lowMT_VBFJet/ttbar_tes_1p01_jes_1p01.h5\n",
      "ICP training data: Base point nu = (1.0, 1.0, 1.0), alpha = (1.01, 1.01, 1.0), file = /scratch-cbe/users/robert.schoefbeck/Higgs_uncertainty/data/lowMT_VBFJet/ttbar_tes_1p01_jes_1p01_met_1.h5\n",
      "ICP training data: Base point nu = (1.0, 1.0, 2.0), alpha = (1.01, 1.01, 2.0), file = /scratch-cbe/users/robert.schoefbeck/Higgs_uncertainty/data/lowMT_VBFJet/ttbar_tes_1p01_jes_1p01_met_2.h5\n",
      "ICP training data: Base point nu = (2.0, 0.0, 0.0), alpha = (1.02, 1.0, 0.0), file = /scratch-cbe/users/robert.schoefbeck/Higgs_uncertainty/data/lowMT_VBFJet/ttbar_tes_1p02.h5\n",
      "ICP training data: Base point nu = (3.0, 0.0, 0.0), alpha = (1.03, 1.0, 0.0), file = /scratch-cbe/users/robert.schoefbeck/Higgs_uncertainty/data/lowMT_VBFJet/ttbar_tes_1p03.h5\n",
      "Written ./demodir/models/ICP/ICP_ttbar_lowMT_VBFJet_icp_quad_tes_jes_met.pkl\n",
      "Trained ICP with config ML.configs.icp_quad_tes_jes_met in selection lowMT_VBFJet\n",
      "ICP: lowMT_VBFJet                                 +6.0e-03*nu_tes +1.3e-02*nu_jes -3.4e-05*nu_met -9.9e-05*nu_tes*nu_tes -1.6e-04*nu_jes*nu_jes -9.2e-05*nu_met*nu_met +4.6e-05*nu_tes*nu_jes -4.5e-06*nu_tes*nu_met +5.2e-06*nu_jes*nu_met\n",
      "Training.\n",
      "ICP training data: Base point nu = (0.0, 0.0, 0.0), alpha = (1.0, 1.0, 0.0), file = /scratch-cbe/users/robert.schoefbeck/Higgs_uncertainty/data/lowMT_VBFJet/diboson.h5\n",
      "ICP training data: Base point nu = (-3.0, 0.0, 0.0), alpha = (0.97, 1.0, 0.0), file = /scratch-cbe/users/robert.schoefbeck/Higgs_uncertainty/data/lowMT_VBFJet/diboson_tes_0p97.h5\n",
      "ICP training data: Base point nu = (-2.0, 0.0, 0.0), alpha = (0.98, 1.0, 0.0), file = /scratch-cbe/users/robert.schoefbeck/Higgs_uncertainty/data/lowMT_VBFJet/diboson_tes_0p98.h5\n",
      "ICP training data: Base point nu = (-1.0, -1.0, 0.0), alpha = (0.99, 0.99, 0.0), file = /scratch-cbe/users/robert.schoefbeck/Higgs_uncertainty/data/lowMT_VBFJet/diboson_tes_0p99_jes_0p99.h5\n",
      "ICP training data: Base point nu = (-1.0, -1.0, 1.0), alpha = (0.99, 0.99, 1.0), file = /scratch-cbe/users/robert.schoefbeck/Higgs_uncertainty/data/lowMT_VBFJet/diboson_tes_0p99_jes_0p99_met_1.h5\n",
      "ICP training data: Base point nu = (-1.0, -1.0, 2.0), alpha = (0.99, 0.99, 2.0), file = /scratch-cbe/users/robert.schoefbeck/Higgs_uncertainty/data/lowMT_VBFJet/diboson_tes_0p99_jes_0p99_met_2.h5\n",
      "ICP training data: Base point nu = (-1.0, 0.0, 0.0), alpha = (0.99, 1.0, 0.0), file = /scratch-cbe/users/robert.schoefbeck/Higgs_uncertainty/data/lowMT_VBFJet/diboson_tes_0p99.h5\n",
      "ICP training data: Base point nu = (-1.0, 0.0, 1.0), alpha = (0.99, 1.0, 1.0), file = /scratch-cbe/users/robert.schoefbeck/Higgs_uncertainty/data/lowMT_VBFJet/diboson_tes_0p99_met_1.h5\n",
      "ICP training data: Base point nu = (-1.0, 0.0, 2.0), alpha = (0.99, 1.0, 2.0), file = /scratch-cbe/users/robert.schoefbeck/Higgs_uncertainty/data/lowMT_VBFJet/diboson_tes_0p99_met_2.h5\n",
      "ICP training data: Base point nu = (-1.0, 1.0, 0.0), alpha = (0.99, 1.01, 0.0), file = /scratch-cbe/users/robert.schoefbeck/Higgs_uncertainty/data/lowMT_VBFJet/diboson_tes_0p99_jes_1p01.h5\n",
      "ICP training data: Base point nu = (-1.0, 1.0, 1.0), alpha = (0.99, 1.01, 1.0), file = /scratch-cbe/users/robert.schoefbeck/Higgs_uncertainty/data/lowMT_VBFJet/diboson_tes_0p99_jes_1p01_met_1.h5\n",
      "ICP training data: Base point nu = (-1.0, 1.0, 2.0), alpha = (0.99, 1.01, 2.0), file = /scratch-cbe/users/robert.schoefbeck/Higgs_uncertainty/data/lowMT_VBFJet/diboson_tes_0p99_jes_1p01_met_2.h5\n",
      "ICP training data: Base point nu = (0.0, -3.0, 0.0), alpha = (1.0, 0.97, 0.0), file = /scratch-cbe/users/robert.schoefbeck/Higgs_uncertainty/data/lowMT_VBFJet/diboson_jes_0p97.h5\n",
      "ICP training data: Base point nu = (0.0, -2.0, 0.0), alpha = (1.0, 0.98, 0.0), file = /scratch-cbe/users/robert.schoefbeck/Higgs_uncertainty/data/lowMT_VBFJet/diboson_jes_0p98.h5\n",
      "ICP training data: Base point nu = (0.0, -1.0, 0.0), alpha = (1.0, 0.99, 0.0), file = /scratch-cbe/users/robert.schoefbeck/Higgs_uncertainty/data/lowMT_VBFJet/diboson_jes_0p99.h5\n",
      "ICP training data: Base point nu = (0.0, -1.0, 1.0), alpha = (1.0, 0.99, 1.0), file = /scratch-cbe/users/robert.schoefbeck/Higgs_uncertainty/data/lowMT_VBFJet/diboson_jes_0p99_met_1.h5\n",
      "ICP training data: Base point nu = (0.0, -1.0, 2.0), alpha = (1.0, 0.99, 2.0), file = /scratch-cbe/users/robert.schoefbeck/Higgs_uncertainty/data/lowMT_VBFJet/diboson_jes_0p99_met_2.h5\n",
      "ICP training data: Base point nu = (0.0, 0.0, 1.0), alpha = (1.0, 1.0, 1.0), file = /scratch-cbe/users/robert.schoefbeck/Higgs_uncertainty/data/lowMT_VBFJet/diboson_met_1.h5\n",
      "ICP training data: Base point nu = (0.0, 0.0, 2.0), alpha = (1.0, 1.0, 2.0), file = /scratch-cbe/users/robert.schoefbeck/Higgs_uncertainty/data/lowMT_VBFJet/diboson_met_2.h5\n",
      "ICP training data: Base point nu = (0.0, 1.0, 0.0), alpha = (1.0, 1.01, 0.0), file = /scratch-cbe/users/robert.schoefbeck/Higgs_uncertainty/data/lowMT_VBFJet/diboson_jes_1p01.h5\n",
      "ICP training data: Base point nu = (0.0, 1.0, 1.0), alpha = (1.0, 1.01, 1.0), file = /scratch-cbe/users/robert.schoefbeck/Higgs_uncertainty/data/lowMT_VBFJet/diboson_jes_1p01_met_1.h5\n",
      "ICP training data: Base point nu = (0.0, 1.0, 2.0), alpha = (1.0, 1.01, 2.0), file = /scratch-cbe/users/robert.schoefbeck/Higgs_uncertainty/data/lowMT_VBFJet/diboson_jes_1p01_met_2.h5\n",
      "ICP training data: Base point nu = (0.0, 2.0, 0.0), alpha = (1.0, 1.02, 0.0), file = /scratch-cbe/users/robert.schoefbeck/Higgs_uncertainty/data/lowMT_VBFJet/diboson_jes_1p02.h5\n",
      "ICP training data: Base point nu = (0.0, 3.0, 0.0), alpha = (1.0, 1.03, 0.0), file = /scratch-cbe/users/robert.schoefbeck/Higgs_uncertainty/data/lowMT_VBFJet/diboson_jes_1p03.h5\n",
      "ICP training data: Base point nu = (1.0, -1.0, 0.0), alpha = (1.01, 0.99, 0.0), file = /scratch-cbe/users/robert.schoefbeck/Higgs_uncertainty/data/lowMT_VBFJet/diboson_tes_1p01_jes_0p99.h5\n",
      "ICP training data: Base point nu = (1.0, -1.0, 1.0), alpha = (1.01, 0.99, 1.0), file = /scratch-cbe/users/robert.schoefbeck/Higgs_uncertainty/data/lowMT_VBFJet/diboson_tes_1p01_jes_0p99_met_1.h5\n",
      "ICP training data: Base point nu = (1.0, -1.0, 2.0), alpha = (1.01, 0.99, 2.0), file = /scratch-cbe/users/robert.schoefbeck/Higgs_uncertainty/data/lowMT_VBFJet/diboson_tes_1p01_jes_0p99_met_2.h5\n",
      "ICP training data: Base point nu = (1.0, 0.0, 0.0), alpha = (1.01, 1.0, 0.0), file = /scratch-cbe/users/robert.schoefbeck/Higgs_uncertainty/data/lowMT_VBFJet/diboson_tes_1p01.h5\n",
      "ICP training data: Base point nu = (1.0, 0.0, 1.0), alpha = (1.01, 1.0, 1.0), file = /scratch-cbe/users/robert.schoefbeck/Higgs_uncertainty/data/lowMT_VBFJet/diboson_tes_1p01_met_1.h5\n",
      "ICP training data: Base point nu = (1.0, 0.0, 2.0), alpha = (1.01, 1.0, 2.0), file = /scratch-cbe/users/robert.schoefbeck/Higgs_uncertainty/data/lowMT_VBFJet/diboson_tes_1p01_met_2.h5\n",
      "ICP training data: Base point nu = (1.0, 1.0, 0.0), alpha = (1.01, 1.01, 0.0), file = /scratch-cbe/users/robert.schoefbeck/Higgs_uncertainty/data/lowMT_VBFJet/diboson_tes_1p01_jes_1p01.h5\n",
      "ICP training data: Base point nu = (1.0, 1.0, 1.0), alpha = (1.01, 1.01, 1.0), file = /scratch-cbe/users/robert.schoefbeck/Higgs_uncertainty/data/lowMT_VBFJet/diboson_tes_1p01_jes_1p01_met_1.h5\n",
      "ICP training data: Base point nu = (1.0, 1.0, 2.0), alpha = (1.01, 1.01, 2.0), file = /scratch-cbe/users/robert.schoefbeck/Higgs_uncertainty/data/lowMT_VBFJet/diboson_tes_1p01_jes_1p01_met_2.h5\n",
      "ICP training data: Base point nu = (2.0, 0.0, 0.0), alpha = (1.02, 1.0, 0.0), file = /scratch-cbe/users/robert.schoefbeck/Higgs_uncertainty/data/lowMT_VBFJet/diboson_tes_1p02.h5\n",
      "ICP training data: Base point nu = (3.0, 0.0, 0.0), alpha = (1.03, 1.0, 0.0), file = /scratch-cbe/users/robert.schoefbeck/Higgs_uncertainty/data/lowMT_VBFJet/diboson_tes_1p03.h5\n",
      "Written ./demodir/models/ICP/ICP_diboson_lowMT_VBFJet_icp_quad_tes_jes_met.pkl\n",
      "Trained ICP with config ML.configs.icp_quad_tes_jes_met in selection lowMT_VBFJet\n",
      "ICP: lowMT_VBFJet                                 +6.0e-03*nu_tes +1.3e-02*nu_jes -3.4e-05*nu_met -9.9e-05*nu_tes*nu_tes -1.6e-04*nu_jes*nu_jes -9.2e-05*nu_met*nu_met +4.6e-05*nu_tes*nu_jes -4.5e-06*nu_tes*nu_met +5.2e-06*nu_jes*nu_met\n"
     ]
    }
   ],
   "source": [
    "config_name = \"ML.configs.icp_quad_tes_jes_met\"\n",
    "# import the training parameters in config\n",
    "config = importlib.import_module(\"%s\"%( config_name))\n",
    "for p in processes:\n",
    "    subdirs = [arg for arg in [p, selection, config_name.split('.')[-1]] if arg is not None]\n",
    "    icp_name = \"ICP_\"+\"_\".join(subdirs)\n",
    "    icp_model_directory = os.path.join( model_dir, \"ICP\" )\n",
    "    os.makedirs(icp_model_directory, exist_ok=True)\n",
    "    \n",
    "    filename = os.path.join(icp_model_directory, icp_name)+'.pkl'\n",
    "    \n",
    "\n",
    "    print (\"Training.\")\n",
    "    icp = InclusiveCrosssectionParametrization( config = config )\n",
    "\n",
    "    icp.load_training_data(datasets_hephy=datasets_hephy, training_data_dir=training_data_dir, selection=selection, process=p) \n",
    "    icp.train             (small=True, train_ratio = True, selection=None)\n",
    "\n",
    "    icp.save(filename)\n",
    "    print (\"Written %s\"%( filename ))\n",
    "    \n",
    "    print (f\"Trained ICP with config {config_name} in selection {selection}\")\n",
    "    prefix = \"ICP: \"+selection\n",
    "    print (prefix.ljust(50)+icp.__str__())"
   ]
  },
  {
   "cell_type": "markdown",
   "id": "baab5f51-990e-457e-828a-8f71b7d5d88f",
   "metadata": {},
   "source": [
    "## Multiclassifier"
   ]
  },
  {
   "cell_type": "code",
   "execution_count": 13,
   "id": "40ee13f7-00af-41d1-9279-f2f34afa2579",
   "metadata": {},
   "outputs": [
    {
     "name": "stdout",
     "output_type": "stream",
     "text": [
      "Num GPUs Available:  0\n"
     ]
    }
   ],
   "source": [
    "from ML.TFMC.TFMC import TFMC"
   ]
  },
  {
   "cell_type": "code",
   "execution_count": 14,
   "id": "a6b0d5c0-8db4-46e9-81f7-36cdc41b6cb4",
   "metadata": {},
   "outputs": [],
   "source": [
    "config_name = \"ML.configs.tfmc_scan_do_1\"\n",
    "# import the training parameters in config\n",
    "config = importlib.import_module(\"%s\"%( config_name))\n",
    "\n",
    "# Where to store the training\n",
    "TFMC_model_directory = os.path.join(model_dir, \"TFMC\", selection, config_name.split('.')[-1])\n",
    "os.makedirs(TFMC_model_directory, exist_ok=True)"
   ]
  },
  {
   "cell_type": "code",
   "execution_count": 15,
   "id": "2af12951-cc6d-4dd2-b3cf-54c20ef205c2",
   "metadata": {},
   "outputs": [
    {
     "name": "stdout",
     "output_type": "stream",
     "text": [
      "We use this IC:\n",
      "IC: \u001b[1mlowMT_VBFJet\u001b[0m                           S/B = 0.003971  yield: htautau:    22.60 ztautau:  4120.57 ttbar:  1539.10 diboson:    32.14\n",
      "                                                           count: htautau:  1158182 ztautau:   412057 ttbar:   153883 diboson:     3213\n",
      "We use this scaler:\n",
      "Scaler: selection \u001b[1mlowMT_VBFJet\u001b[0m process (\u001b[1mnot set\u001b[0m)\n",
      "PRI_lep_pt: mean=46.312, variance=850.590\n",
      "PRI_lep_eta: mean=-0.000, variance=1.328\n",
      "PRI_lep_phi: mean=-0.002, variance=3.288\n",
      "PRI_had_pt: mean=61.323, variance=1443.225\n",
      "PRI_had_eta: mean=0.001, variance=1.393\n",
      "PRI_had_phi: mean=0.003, variance=3.287\n",
      "PRI_jet_leading_pt: mean=119.773, variance=5152.242\n",
      "PRI_jet_leading_eta: mean=-0.001, variance=3.265\n",
      "PRI_jet_leading_phi: mean=-0.002, variance=3.275\n",
      "PRI_jet_subleading_pt: mean=61.797, variance=1126.916\n",
      "PRI_jet_subleading_eta: mean=0.002, variance=4.463\n",
      "PRI_jet_subleading_phi: mean=-0.001, variance=3.246\n",
      "PRI_n_jets: mean=2.895, variance=1.162\n",
      "PRI_jet_all_pt: mean=216.515, variance=14143.631\n",
      "PRI_met: mean=57.541, variance=2185.743\n",
      "PRI_met_phi: mean=0.000, variance=3.287\n",
      "DER_mass_transverse_met_lep: mean=22.381, variance=330.112\n",
      "DER_mass_vis: mean=78.153, variance=1250.358\n",
      "DER_pt_h: mean=128.600, variance=6605.014\n",
      "DER_deltaeta_jet_jet: mean=2.348, variance=2.900\n",
      "DER_mass_jet_jet: mean=399.692, variance=228483.254\n",
      "DER_prodeta_jet_jet: mean=-0.342, variance=14.905\n",
      "DER_deltar_had_lep: mean=1.849, variance=0.487\n",
      "DER_pt_tot: mean=33.489, variance=806.460\n",
      "DER_sum_pt: mean=324.149, variance=21651.933\n",
      "DER_pt_ratio_lep_tau: mean=0.967, variance=0.622\n",
      "DER_met_phi_centrality: mean=0.834, variance=0.572\n",
      "DER_lep_eta_centrality: mean=0.446, variance=0.157\n"
     ]
    },
    {
     "name": "stderr",
     "output_type": "stream",
     "text": [
      "2025-04-08 22:14:41.869556: I tensorflow/core/platform/cpu_feature_guard.cc:193] This TensorFlow binary is optimized with oneAPI Deep Neural Network Library (oneDNN) to use the following CPU instructions in performance-critical operations:  SSE4.1 SSE4.2 AVX AVX2 AVX512F FMA\n",
      "To enable them in other operations, rebuild TensorFlow with the appropriate compiler flags.\n"
     ]
    },
    {
     "name": "stdout",
     "output_type": "stream",
     "text": [
      "Epoch 0/300 - Learning rate: 0.010000\n"
     ]
    },
    {
     "name": "stderr",
     "output_type": "stream",
     "text": [
      "Processing Batches:   0%|                                                                             | 0/100 [00:02<?, ?it/s]"
     ]
    },
    {
     "name": "stdout",
     "output_type": "stream",
     "text": [
      "TFMC models saved in ./demodir/models/TFMC/lowMT_VBFJet/tfmc_scan_do_1\n"
     ]
    },
    {
     "name": "stderr",
     "output_type": "stream",
     "text": [
      "\n"
     ]
    }
   ],
   "source": [
    "if config.use_ic:\n",
    "    from ML.IC.IC import InclusiveCrosssection\n",
    "    ic = InclusiveCrosssection.load(os.path.join(model_dir, \"IC\", \"IC_\"+selection+'.pkl'))\n",
    "    config.weight_sums = ic.weight_sums\n",
    "    print(\"We use this IC:\")\n",
    "    print(ic)\n",
    "    \n",
    "# Do we use a Scaler?\n",
    "if config.use_scaler:\n",
    "    from ML.Scaler.Scaler import Scaler \n",
    "    scaler = Scaler.load(os.path.join(model_dir, \"Scaler\", \"Scaler_\"+selection+'.pkl'))\n",
    "    config.feature_means     = scaler.feature_means\n",
    "    config.feature_variances = scaler.feature_variances\n",
    "\n",
    "    print(\"We use this scaler:\")\n",
    "    print(scaler)\n",
    "\n",
    "tfmc = TFMC(config)\n",
    "\n",
    "tfmc.load_training_data(datasets_hephy, training_data_dir, selection, n_split=100)\n",
    "\n",
    "max_batch = 1 # FIXME: -1 for full training\n",
    "\n",
    "# Determine the starting epoch\n",
    "starting_epoch = 0\n",
    "\n",
    "# Training Loop\n",
    "for epoch in range(0, config.n_epochs):\n",
    "\n",
    "    # Manually evaluate and update the learning rate\n",
    "    if hasattr(tfmc, 'lr_schedule'):  # Ensure the schedule exists\n",
    "        new_lr = tfmc.lr_schedule(epoch)\n",
    "        tfmc.optimizer.learning_rate.assign(new_lr)  # Update the optimizer's learning rate\n",
    "\n",
    "    # Print the current learning rate\n",
    "    current_lr = tf.keras.backend.get_value(tfmc.optimizer.learning_rate)  # Direct access\n",
    "    print(f\"Epoch {epoch}/{config.n_epochs} - Learning rate: {current_lr:.6f}\")\n",
    "\n",
    "    true_histograms, pred_histograms = tfmc.train_one_epoch(max_batch=max_batch, accumulate_histograms=(epoch%1==0))\n",
    "    tfmc.save(TFMC_model_directory, epoch)  # Save model and config after each epoch\n",
    "\n",
    "    #if true_histograms is not None and pred_histograms is not None:\n",
    "    #    # Plot convergence\n",
    "    #    tfmc.plot_convergence_root(\n",
    "    #        true_histograms,\n",
    "    #        pred_histograms,\n",
    "    #        epoch,\n",
    "    #        plot_directory,\n",
    "    #        data_structure.feature_names, \n",
    "    #    )\n",
    "\n",
    "    break\n",
    "\n",
    "print(f\"TFMC models saved in {TFMC_model_directory}\")"
   ]
  },
  {
   "cell_type": "markdown",
   "id": "366c1039-5259-4afb-8987-f2628598d49b",
   "metadata": {},
   "source": [
    "## PNN"
   ]
  },
  {
   "cell_type": "code",
   "execution_count": 16,
   "id": "5c711c3c-e134-4dc5-bd8f-acf9b61c97b4",
   "metadata": {},
   "outputs": [],
   "source": [
    "from ML.PNN.PNN import PNN"
   ]
  },
  {
   "cell_type": "code",
   "execution_count": 17,
   "id": "bce2165a-94f6-43ae-a7ea-01b8367f284f",
   "metadata": {},
   "outputs": [
    {
     "name": "stdout",
     "output_type": "stream",
     "text": [
      "We use this ICP: ICP_htautau_lowMT_VBFJet_icp_quad_tes_jes_met.pkl\n",
      "+6.0e-03*nu_tes +1.3e-02*nu_jes -3.4e-05*nu_met -9.9e-05*nu_tes*nu_tes -1.6e-04*nu_jes*nu_jes -9.2e-05*nu_met*nu_met +4.6e-05*nu_tes*nu_jes -4.5e-06*nu_tes*nu_met +5.2e-06*nu_jes*nu_met\n",
      "We use this scaler: Scaler_htautau_lowMT_VBFJet.pkl\n",
      "Scaler: selection \u001b[1mlowMT_VBFJet\u001b[0m process (\u001b[1mhtautau\u001b[0m)\n",
      "PRI_lep_pt: mean=47.784, variance=934.071\n",
      "PRI_lep_eta: mean=0.000, variance=1.262\n",
      "PRI_lep_phi: mean=-0.001, variance=3.288\n",
      "PRI_had_pt: mean=64.702, variance=1609.351\n",
      "PRI_had_eta: mean=0.001, variance=1.324\n",
      "PRI_had_phi: mean=0.003, variance=3.285\n",
      "PRI_jet_leading_pt: mean=127.257, variance=5997.741\n",
      "PRI_jet_leading_eta: mean=-0.001, variance=3.695\n",
      "PRI_jet_leading_phi: mean=-0.001, variance=3.269\n",
      "PRI_jet_subleading_pt: mean=63.424, variance=1245.298\n",
      "PRI_jet_subleading_eta: mean=0.000, variance=4.870\n",
      "PRI_jet_subleading_phi: mean=-0.002, variance=3.229\n",
      "PRI_n_jets: mean=2.893, variance=1.149\n",
      "PRI_jet_all_pt: mean=225.778, variance=15460.502\n",
      "PRI_met: mean=61.891, variance=2510.637\n",
      "PRI_met_phi: mean=-0.000, variance=3.285\n",
      "DER_mass_transverse_met_lep: mean=21.215, variance=301.869\n",
      "DER_mass_vis: mean=78.929, variance=695.320\n",
      "DER_pt_h: mean=138.602, variance=7623.948\n",
      "DER_deltaeta_jet_jet: mean=2.610, variance=3.283\n",
      "DER_mass_jet_jet: mean=476.071, variance=296304.926\n",
      "DER_prodeta_jet_jet: mean=-0.767, variance=17.636\n",
      "DER_deltar_had_lep: mean=1.843, variance=0.458\n",
      "DER_pt_tot: mean=33.763, variance=823.468\n",
      "DER_sum_pt: mean=338.264, variance=23649.631\n",
      "DER_pt_ratio_lep_tau: mean=0.966, variance=0.686\n",
      "DER_met_phi_centrality: mean=0.907, variance=0.480\n",
      "DER_lep_eta_centrality: mean=0.488, variance=0.161\n",
      "We use this ICP: ICP_ztautau_lowMT_VBFJet_icp_quad_tes_jes_met.pkl\n",
      "+6.0e-03*nu_tes +1.3e-02*nu_jes -3.4e-05*nu_met -9.9e-05*nu_tes*nu_tes -1.6e-04*nu_jes*nu_jes -9.2e-05*nu_met*nu_met +4.6e-05*nu_tes*nu_jes -4.5e-06*nu_tes*nu_met +5.2e-06*nu_jes*nu_met\n",
      "We use this scaler: Scaler_ztautau_lowMT_VBFJet.pkl\n",
      "Scaler: selection \u001b[1mlowMT_VBFJet\u001b[0m process (\u001b[1mztautau\u001b[0m)\n",
      "PRI_lep_pt: mean=39.566, variance=469.536\n",
      "PRI_lep_eta: mean=-0.002, variance=1.515\n",
      "PRI_lep_phi: mean=-0.003, variance=3.288\n",
      "PRI_had_pt: mean=51.492, variance=767.799\n",
      "PRI_had_eta: mean=-0.001, variance=1.536\n",
      "PRI_had_phi: mean=0.005, variance=3.294\n",
      "PRI_jet_leading_pt: mean=101.049, variance=2794.791\n",
      "PRI_jet_leading_eta: mean=-0.002, variance=2.492\n",
      "PRI_jet_leading_phi: mean=-0.001, variance=3.289\n",
      "PRI_jet_subleading_pt: mean=53.996, variance=654.296\n",
      "PRI_jet_subleading_eta: mean=0.003, variance=4.014\n",
      "PRI_jet_subleading_phi: mean=0.002, variance=3.280\n",
      "PRI_n_jets: mean=2.632, variance=0.735\n",
      "PRI_jet_all_pt: mean=177.241, variance=7082.650\n",
      "PRI_met: mean=46.165, variance=1238.804\n",
      "PRI_met_phi: mean=-0.000, variance=3.293\n",
      "DER_mass_transverse_met_lep: mean=18.808, variance=242.323\n",
      "DER_mass_vis: mean=62.764, variance=485.544\n",
      "DER_pt_h: mean=110.573, variance=3816.681\n",
      "DER_deltaeta_jet_jet: mean=1.941, variance=1.743\n",
      "DER_mass_jet_jet: mean=243.677, variance=54843.194\n",
      "DER_prodeta_jet_jet: mean=0.498, variance=9.240\n",
      "DER_deltar_had_lep: mean=1.704, variance=0.397\n",
      "DER_pt_tot: mean=27.165, variance=457.734\n",
      "DER_sum_pt: mean=268.299, variance=10949.438\n",
      "DER_pt_ratio_lep_tau: mean=0.928, variance=0.422\n",
      "DER_met_phi_centrality: mean=0.870, variance=0.472\n",
      "DER_lep_eta_centrality: mean=0.372, variance=0.139\n",
      "We use this ICP: ICP_ttbar_lowMT_VBFJet_icp_quad_tes_jes_met.pkl\n",
      "+6.0e-03*nu_tes +1.3e-02*nu_jes -3.4e-05*nu_met -9.9e-05*nu_tes*nu_tes -1.6e-04*nu_jes*nu_jes -9.2e-05*nu_met*nu_met +4.6e-05*nu_tes*nu_jes -4.5e-06*nu_tes*nu_met +5.2e-06*nu_jes*nu_met\n",
      "We use this scaler: Scaler_ttbar_lowMT_VBFJet.pkl\n",
      "Scaler: selection \u001b[1mlowMT_VBFJet\u001b[0m process (\u001b[1mttbar\u001b[0m)\n",
      "PRI_lep_pt: mean=53.159, variance=1044.421\n",
      "PRI_lep_eta: mean=-0.002, variance=1.323\n",
      "PRI_lep_phi: mean=-0.006, variance=3.294\n",
      "PRI_had_pt: mean=62.264, variance=1643.271\n",
      "PRI_had_eta: mean=0.002, variance=1.519\n",
      "PRI_had_phi: mean=0.002, variance=3.280\n",
      "PRI_jet_leading_pt: mean=113.748, variance=3677.991\n",
      "PRI_jet_leading_eta: mean=0.000, variance=2.105\n",
      "PRI_jet_leading_phi: mean=-0.004, variance=3.286\n",
      "PRI_jet_subleading_pt: mean=70.515, variance=1240.345\n",
      "PRI_jet_subleading_eta: mean=0.007, variance=2.618\n",
      "PRI_jet_subleading_phi: mean=-0.004, variance=3.286\n",
      "PRI_n_jets: mean=3.611, variance=1.704\n",
      "PRI_jet_all_pt: mean=252.284, variance=17048.546\n",
      "PRI_met: mean=55.356, variance=1767.396\n",
      "PRI_met_phi: mean=0.005, variance=3.291\n",
      "DER_mass_transverse_met_lep: mean=40.492, variance=400.664\n",
      "DER_mass_vis: mean=113.021, variance=5512.091\n",
      "DER_pt_h: mean=101.937, variance=4052.666\n",
      "DER_deltaeta_jet_jet: mean=1.478, variance=1.403\n",
      "DER_mass_jet_jet: mean=246.216, variance=53366.434\n",
      "DER_prodeta_jet_jet: mean=0.568, variance=5.499\n",
      "DER_deltar_had_lep: mean=2.270, variance=0.700\n",
      "DER_pt_tot: mean=48.416, variance=1284.531\n",
      "DER_sum_pt: mean=367.707, variance=23455.102\n",
      "DER_pt_ratio_lep_tau: mean=1.074, variance=0.657\n",
      "DER_met_phi_centrality: mean=0.193, variance=1.065\n",
      "DER_lep_eta_centrality: mean=0.335, variance=0.141\n",
      "We use this ICP: ICP_diboson_lowMT_VBFJet_icp_quad_tes_jes_met.pkl\n",
      "+6.0e-03*nu_tes +1.3e-02*nu_jes -3.4e-05*nu_met -9.9e-05*nu_tes*nu_tes -1.6e-04*nu_jes*nu_jes -9.2e-05*nu_met*nu_met +4.6e-05*nu_tes*nu_jes -4.5e-06*nu_tes*nu_met +5.2e-06*nu_jes*nu_met\n",
      "We use this scaler: Scaler_diboson_lowMT_VBFJet.pkl\n",
      "Scaler: selection \u001b[1mlowMT_VBFJet\u001b[0m process (\u001b[1mdiboson\u001b[0m)\n",
      "PRI_lep_pt: mean=52.322, variance=1401.210\n",
      "PRI_lep_eta: mean=0.015, variance=1.606\n",
      "PRI_lep_phi: mean=0.062, variance=3.300\n",
      "PRI_had_pt: mean=58.732, variance=1956.844\n",
      "PRI_had_eta: mean=-0.003, variance=1.767\n",
      "PRI_had_phi: mean=-0.002, variance=3.280\n",
      "PRI_jet_leading_pt: mean=111.085, variance=5805.496\n",
      "PRI_jet_leading_eta: mean=0.019, variance=2.652\n",
      "PRI_jet_leading_phi: mean=-0.018, variance=3.203\n",
      "PRI_jet_subleading_pt: mean=57.652, variance=1130.582\n",
      "PRI_jet_subleading_eta: mean=0.033, variance=3.621\n",
      "PRI_jet_subleading_phi: mean=0.008, variance=3.396\n",
      "PRI_n_jets: mean=2.835, variance=1.030\n",
      "PRI_jet_all_pt: mean=199.712, variance=14062.440\n",
      "PRI_met: mean=53.006, variance=2862.308\n",
      "PRI_met_phi: mean=-0.037, variance=3.270\n",
      "DER_mass_transverse_met_lep: mean=32.788, variance=444.379\n",
      "DER_mass_vis: mean=102.081, variance=6088.203\n",
      "DER_pt_h: mean=111.582, variance=6951.246\n",
      "DER_deltaeta_jet_jet: mean=1.566, variance=1.588\n",
      "DER_mass_jet_jet: mean=223.567, variance=50248.591\n",
      "DER_prodeta_jet_jet: mean=1.116, variance=10.134\n",
      "DER_deltar_had_lep: mean=2.103, variance=0.740\n",
      "DER_pt_tot: mean=30.966, variance=623.456\n",
      "DER_sum_pt: mean=310.765, variance=23004.736\n",
      "DER_pt_ratio_lep_tau: mean=1.133, variance=0.906\n",
      "DER_met_phi_centrality: mean=0.438, variance=0.977\n",
      "DER_lep_eta_centrality: mean=0.311, variance=0.141\n",
      "Epoch 0/200 - Learning rate: 0.001000\n"
     ]
    },
    {
     "name": "stderr",
     "output_type": "stream",
     "text": [
      "Processing Batches: 0it [00:00, ?it/s]"
     ]
    },
    {
     "name": "stdout",
     "output_type": "stream",
     "text": [
      "PNN models saved in ./demodir/models/PNN/diboson/lowMT_VBFJet/ML.configs.pnn_quad_tes_jes_met\n"
     ]
    },
    {
     "name": "stderr",
     "output_type": "stream",
     "text": [
      "\n"
     ]
    }
   ],
   "source": [
    "config_name = \"ML.configs.pnn_quad_tes_jes_met\"\n",
    "# import the training parameters in config\n",
    "config = importlib.import_module(\"%s\"%( config_name))\n",
    "\n",
    "for p in processes:\n",
    "    subdirs= [arg for arg in [p, selection] if arg is not None]\n",
    "\n",
    "    # Do we use ICP?\n",
    "    if config.icp is not None:\n",
    "        from ML.ICP.ICP import InclusiveCrosssectionParametrization\n",
    "        icp_name = \"ICP_\"+\"_\".join(subdirs)+\"_\"+config.icp+\".pkl\"\n",
    "        icp = InclusiveCrosssectionParametrization.load(os.path.join(model_dir, \"ICP\", icp_name))\n",
    "        config.icp_predictor = icp.get_predictor()\n",
    "        print(\"We use this ICP:\",icp_name)\n",
    "        print(icp)\n",
    "    \n",
    "    # Do we use a Scaler?\n",
    "    if config.use_scaler:\n",
    "        from ML.Scaler.Scaler import Scaler\n",
    "        scaler_name = \"Scaler_\"+\"_\".join(subdirs)+'.pkl'\n",
    "        scaler = Scaler.load(os.path.join(model_dir, \"Scaler\", scaler_name))\n",
    "        config.feature_means     = scaler.feature_means\n",
    "        config.feature_variances = scaler.feature_variances\n",
    "    \n",
    "        print(\"We use this scaler:\", scaler_name)\n",
    "        print(scaler)\n",
    "    \n",
    "    # Where to store the training\n",
    "    pnn_model_directory = os.path.join(model_dir, \"PNN\", *subdirs,  config_name)\n",
    "    os.makedirs(pnn_model_directory, exist_ok=True)\n",
    "\n",
    "# Initialize model\n",
    "pnn = PNN(config)\n",
    "\n",
    "# Initialize for training\n",
    "pnn.load_training_data(datasets_hephy=datasets_hephy, training_data_dir=training_data_dir, process=p, selection=selection, n_split=100)\n",
    "\n",
    "max_batch = 1 #if args.small else -1\n",
    "\n",
    "# Training Loop\n",
    "for epoch in range(0, config.n_epochs):\n",
    "\n",
    "    # Manually evaluate and update the learning rate\n",
    "    if hasattr(pnn, 'lr_schedule'):  # Ensure the schedule exists\n",
    "        new_lr = pnn.lr_schedule(epoch)\n",
    "        pnn.optimizer.learning_rate.assign(new_lr)  # Update the optimizer's learning rate\n",
    "  \n",
    "    # Print the current learning rate\n",
    "    current_lr = tf.keras.backend.get_value(pnn.optimizer.learning_rate)  # Direct access\n",
    "    print(f\"Epoch {epoch}/{config.n_epochs} - Learning rate: {current_lr:.6f}\")\n",
    "\n",
    "    true_histograms, pred_histograms = pnn.train_one_epoch(max_batch=max_batch, accumulate_histograms=(epoch%1==0), rebin=1)\n",
    "    pnn.save(pnn_model_directory, epoch)  # Save model and config after each epoch\n",
    "\n",
    "    break\n",
    "\n",
    "\n",
    "print(f\"PNN models saved in {pnn_model_directory}\")"
   ]
  },
  {
   "cell_type": "code",
   "execution_count": null,
   "id": "1abecaba-c1b0-4ffc-affd-b2df0fbf72b5",
   "metadata": {},
   "outputs": [],
   "source": []
  }
 ],
 "metadata": {
  "kernelspec": {
   "display_name": "Python 3 (ipykernel)",
   "language": "python",
   "name": "python3"
  },
  "language_info": {
   "codemirror_mode": {
    "name": "ipython",
    "version": 3
   },
   "file_extension": ".py",
   "mimetype": "text/x-python",
   "name": "python",
   "nbconvert_exporter": "python",
   "pygments_lexer": "ipython3",
   "version": "3.10.13"
  }
 },
 "nbformat": 4,
 "nbformat_minor": 5
}
